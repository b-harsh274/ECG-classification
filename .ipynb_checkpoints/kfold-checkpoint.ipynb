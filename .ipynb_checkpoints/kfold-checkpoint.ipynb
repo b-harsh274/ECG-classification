{
 "cells": [
  {
   "cell_type": "code",
   "execution_count": 1,
   "id": "78726b00",
   "metadata": {},
   "outputs": [],
   "source": [
    "import pandas as pd\n",
    "import numpy as np\n",
    "import wfdb\n",
    "import ast\n",
    "\n",
    "def load_raw_data(df, sampling_rate):\n",
    "    if sampling_rate == 100:\n",
    "        data = [wfdb.rdsamp(f) for f in df.filename_lr]\n",
    "    else:\n",
    "        data = [wfdb.rdsamp(f) for f in df.filename_hr]\n",
    "    data = np.array([signal for signal, meta in data])\n",
    "    return data\n",
    "\n",
    "sampling_rate=100\n",
    "\n",
    "# load and convert annotation data\n",
    "df = pd.read_csv('ptbxl_database.csv')\n",
    "df.scp_codes = df.scp_codes.apply(lambda x: ast.literal_eval(x))\n",
    "\n",
    "# Load raw signal data\n",
    "Signals = load_raw_data(df, sampling_rate)\n",
    "\n",
    "# Load scp_statements.csv for diagnostic aggregation\n",
    "agg_df = pd.read_csv('scp_statements.csv', index_col=0)\n",
    "agg_df = agg_df[agg_df.diagnostic == 1]\n",
    "\n",
    "def aggregate_diagnostic(y_dic):\n",
    "    tmp = []\n",
    "    for key in y_dic.keys():\n",
    "        if key in agg_df.index:\n",
    "            tmp.append(agg_df.loc[key].diagnostic_class)\n",
    "    return list(set(tmp))\n",
    "\n",
    "# Apply diagnostic superclass\n",
    "df.reset_index(inplace = True)\n",
    "Labels = df.scp_codes.apply(aggregate_diagnostic)"
   ]
  },
  {
   "cell_type": "code",
   "execution_count": 8,
   "id": "71121067",
   "metadata": {},
   "outputs": [],
   "source": [
    "def augment_signals(signals, labels, augmentation_factor = 5, noise_factor=0.01):\n",
    "    augmented_signals = []\n",
    "    augmented_labels = []\n",
    "    \n",
    "    for index in range(len(labels)):\n",
    "        repeated_signal = np.tile(signals[index], (augmentation_factor, 1, 1))\n",
    "        noisy_signal = repeated_signal + noise_factor * np.random.randn(*repeated_signal.shape)\n",
    "        augmented_signals.append(noisy_signal)\n",
    "        augmented_labels.extend([labels[index]] * augmentation_factor)\n",
    "        \n",
    "    X = np.concatenate([signals] + augmented_signals)\n",
    "    Y = np.concatenate([labels, augmented_labels])\n",
    "    \n",
    "    return X,Y"
   ]
  },
  {
   "cell_type": "code",
   "execution_count": null,
   "id": "3d418391",
   "metadata": {},
   "outputs": [],
   "source": [
    "X,Y = augment_signals(Signals, Labels)"
   ]
  },
  {
   "cell_type": "code",
   "execution_count": 3,
   "id": "3b57e622",
   "metadata": {},
   "outputs": [],
   "source": [
    "from sklearn.preprocessing import MultiLabelBinarizer\n",
    "from sklearn.model_selection import train_test_split\n",
    "\n",
    "mlb = MultiLabelBinarizer()\n",
    "one_hot_encoded_labels = mlb.fit_transform(Labels)\n",
    "\n",
    "X_train, X_test, y_train, y_test = train_test_split(Signals, one_hot_encoded_labels, test_size = 0.2)"
   ]
  },
  {
   "cell_type": "code",
   "execution_count": null,
   "id": "be05f623",
   "metadata": {},
   "outputs": [],
   "source": []
  }
 ],
 "metadata": {
  "kernelspec": {
   "display_name": "Python 3 (ipykernel)",
   "language": "python",
   "name": "python3"
  },
  "language_info": {
   "codemirror_mode": {
    "name": "ipython",
    "version": 3
   },
   "file_extension": ".py",
   "mimetype": "text/x-python",
   "name": "python",
   "nbconvert_exporter": "python",
   "pygments_lexer": "ipython3",
   "version": "3.11.4"
  }
 },
 "nbformat": 4,
 "nbformat_minor": 5
}
